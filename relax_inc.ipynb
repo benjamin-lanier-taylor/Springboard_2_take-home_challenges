{
 "cells": [
  {
   "cell_type": "markdown",
   "metadata": {},
   "source": [
    "# Import"
   ]
  },
  {
   "cell_type": "code",
   "execution_count": 1,
   "metadata": {},
   "outputs": [],
   "source": [
    "import numpy as np\n",
    "import pandas as pd\n",
    "import matplotlib.pyplot as plt\n",
    "import seaborn as sns\n",
    "from datetime import datetime\n",
    "from datetime import timedelta\n",
    "from sklearn.impute import SimpleImputer\n",
    "from sklearn.model_selection import train_test_split\n",
    "\n",
    "import matplotlib.pyplot as plt\n",
    "%matplotlib inline\n",
    "import matplotlib.pylab as pylab\n",
    "params = {'legend.fontsize': 'x-large',\n",
    "          'figure.figsize': (15, 5),\n",
    "         'axes.labelsize': 'xx-large',\n",
    "         'axes.titlesize':'xx-large',\n",
    "          'axes.titleweight': 'bold',\n",
    "          'axes.labelweight': 'bold',\n",
    "         'xtick.labelsize':'xx-large',\n",
    "          'xtick.major.size': 5.5,\n",
    "         'ytick.labelsize':'xx-large',\n",
    "          'ytick.major.size': 5.5,\n",
    "          'axes.labelpad': 15.0,\n",
    "          'grid.color': 'gray',\n",
    "         'axes.edgecolor': 'black'}\n",
    "pylab.rcParams.update(params)\n",
    "plt.rcParams[\"patch.force_edgecolor\"] = True"
   ]
  },
  {
   "cell_type": "code",
   "execution_count": 2,
   "metadata": {},
   "outputs": [],
   "source": [
    "file1 = '/Users/charisameeker/Documents/Data/relax_challenge/takehome_user_engagement.csv'\n",
    "file2 = '/Users/charisameeker/Documents/Data/relax_challenge/takehome_users.csv'\n",
    "df1 = pd.read_csv(file1, parse_dates=['time_stamp'],\n",
    "                 dtype={'user_id':np.int16, 'visited':np.int8})\n",
    "df2 = pd.read_csv(file2, parse_dates=['creation_time'], encoding='latin-1',\n",
    "                 dtype={'object_id':np.int16,'opted_in_to_mailing_list':np.int8,\n",
    "                       'enabled_for_marketing_drip':np.int8,'org_id':np.int16,\n",
    "                       'invited_by_user_id':np.float32})"
   ]
  },
  {
   "cell_type": "markdown",
   "metadata": {},
   "source": [
    "# Inspect DataFrames and Create Adopted Column"
   ]
  },
  {
   "cell_type": "code",
   "execution_count": 3,
   "metadata": {
    "scrolled": true
   },
   "outputs": [
    {
     "name": "stdout",
     "output_type": "stream",
     "text": [
      "<class 'pandas.core.frame.DataFrame'>\n",
      "RangeIndex: 207917 entries, 0 to 207916\n",
      "Data columns (total 3 columns):\n",
      " #   Column      Non-Null Count   Dtype         \n",
      "---  ------      --------------   -----         \n",
      " 0   time_stamp  207917 non-null  datetime64[ns]\n",
      " 1   user_id     207917 non-null  int16         \n",
      " 2   visited     207917 non-null  int8          \n",
      "dtypes: datetime64[ns](1), int16(1), int8(1)\n",
      "memory usage: 2.2 MB\n"
     ]
    }
   ],
   "source": [
    "df1.info()"
   ]
  },
  {
   "cell_type": "code",
   "execution_count": 4,
   "metadata": {},
   "outputs": [
    {
     "name": "stdout",
     "output_type": "stream",
     "text": [
      "<class 'pandas.core.frame.DataFrame'>\n",
      "RangeIndex: 12000 entries, 0 to 11999\n",
      "Data columns (total 10 columns):\n",
      " #   Column                      Non-Null Count  Dtype         \n",
      "---  ------                      --------------  -----         \n",
      " 0   object_id                   12000 non-null  int16         \n",
      " 1   creation_time               12000 non-null  datetime64[ns]\n",
      " 2   name                        12000 non-null  object        \n",
      " 3   email                       12000 non-null  object        \n",
      " 4   creation_source             12000 non-null  object        \n",
      " 5   last_session_creation_time  8823 non-null   float64       \n",
      " 6   opted_in_to_mailing_list    12000 non-null  int8          \n",
      " 7   enabled_for_marketing_drip  12000 non-null  int8          \n",
      " 8   org_id                      12000 non-null  int16         \n",
      " 9   invited_by_user_id          6417 non-null   float32       \n",
      "dtypes: datetime64[ns](1), float32(1), float64(1), int16(2), int8(2), object(3)\n",
      "memory usage: 586.1+ KB\n"
     ]
    }
   ],
   "source": [
    "df2.info()"
   ]
  },
  {
   "cell_type": "code",
   "execution_count": 5,
   "metadata": {},
   "outputs": [],
   "source": [
    "# df2.last_session_creation_time = df2.last_session_creation_time.astype('float64')\n",
    "# this effectively converts the column to np.inf"
   ]
  },
  {
   "cell_type": "code",
   "execution_count": 6,
   "metadata": {},
   "outputs": [
    {
     "data": {
      "text/plain": [
       "(12000, 11999)"
      ]
     },
     "execution_count": 6,
     "metadata": {},
     "output_type": "execute_result"
    }
   ],
   "source": [
    "df2.object_id.max(), df2.index.max()"
   ]
  },
  {
   "cell_type": "code",
   "execution_count": 7,
   "metadata": {},
   "outputs": [],
   "source": [
    "df2.set_index('object_id', inplace=True)\n",
    "df2.index.name = 'user_id'"
   ]
  },
  {
   "cell_type": "code",
   "execution_count": 8,
   "metadata": {},
   "outputs": [
    {
     "data": {
      "text/plain": [
       "Timedelta('729 days 23:15:52')"
      ]
     },
     "execution_count": 8,
     "metadata": {},
     "output_type": "execute_result"
    }
   ],
   "source": [
    "df2.creation_time.max() - df2.creation_time.min()"
   ]
  },
  {
   "cell_type": "code",
   "execution_count": 9,
   "metadata": {},
   "outputs": [
    {
     "data": {
      "text/plain": [
       "11355"
      ]
     },
     "execution_count": 9,
     "metadata": {},
     "output_type": "execute_result"
    }
   ],
   "source": [
    "df2.name.nunique()"
   ]
  },
  {
   "cell_type": "markdown",
   "metadata": {},
   "source": [
    "## Create Adopted Column"
   ]
  },
  {
   "cell_type": "code",
   "execution_count": 10,
   "metadata": {},
   "outputs": [],
   "source": [
    "# define a function to see if a user logged in on 3 seperate days in a 7-day period.\n",
    "def logins_in_days(df, days=7, logins=3):\n",
    "    from datetime import timedelta\n",
    "    \n",
    "    # first drop duplicate days and sort by day\n",
    "    df['date'] = df['time_stamp'].dt.date\n",
    "    df = df.drop_duplicates(subset='date').sort_values('date')\n",
    "    \n",
    "    # calculate how many days has passed for every 3 logins\n",
    "    passed_days = df['date'].diff(periods=logins-1)\n",
    "    \n",
    "    # check if any passed time is less than 7 days\n",
    "    return any(passed_days <= timedelta(days=days))"
   ]
  },
  {
   "cell_type": "code",
   "execution_count": 11,
   "metadata": {},
   "outputs": [],
   "source": [
    "# run the function on all users\n",
    "adopted = df1.groupby('user_id').apply(logins_in_days)\n",
    "adopted = adopted.astype('int8')"
   ]
  },
  {
   "cell_type": "code",
   "execution_count": 12,
   "metadata": {},
   "outputs": [],
   "source": [
    "# create a feature of user history\n",
    "# convert both time features into datetime\n",
    "'''df2['creation_time'] = pd.to_datetime(\n",
    "    df2['creation_time'], format='%Y-%m-%d %H:%M:%S')'''\n",
    "df2['last_session_creation_time'] = pd.to_datetime(\n",
    "    df2['last_session_creation_time'], unit='s')\n",
    "\n",
    "# calculate user history, defined as number of days between account creation and last use\n",
    "df2['history'] = df2['last_session_creation_time'] - df2['creation_time']\n",
    "df2['history'] = df2['history'].dt.days\n",
    "\n",
    "# calculate account age, defined as number of days since account creation and now\n",
    "# I don't know when this dataset was collected. Let's use the latest date in creation_time\n",
    "latest = max(df2['creation_time'])\n",
    "df2['account_age'] = latest - df2['creation_time']\n",
    "df2['account_age'] = df2['account_age'].dt.days"
   ]
  },
  {
   "cell_type": "code",
   "execution_count": 13,
   "metadata": {},
   "outputs": [],
   "source": [
    "df2.insert(1, 'adopted', adopted)"
   ]
  },
  {
   "cell_type": "markdown",
   "metadata": {},
   "source": [
    "# EDA"
   ]
  },
  {
   "cell_type": "code",
   "execution_count": 14,
   "metadata": {
    "scrolled": true
   },
   "outputs": [
    {
     "data": {
      "text/html": [
       "<div>\n",
       "<style scoped>\n",
       "    .dataframe tbody tr th:only-of-type {\n",
       "        vertical-align: middle;\n",
       "    }\n",
       "\n",
       "    .dataframe tbody tr th {\n",
       "        vertical-align: top;\n",
       "    }\n",
       "\n",
       "    .dataframe thead th {\n",
       "        text-align: right;\n",
       "    }\n",
       "</style>\n",
       "<table border=\"1\" class=\"dataframe\">\n",
       "  <thead>\n",
       "    <tr style=\"text-align: right;\">\n",
       "      <th></th>\n",
       "      <th>time_stamp</th>\n",
       "      <th>user_id</th>\n",
       "      <th>visited</th>\n",
       "    </tr>\n",
       "  </thead>\n",
       "  <tbody>\n",
       "    <tr>\n",
       "      <th>0</th>\n",
       "      <td>2014-04-22 03:53:30</td>\n",
       "      <td>1</td>\n",
       "      <td>1</td>\n",
       "    </tr>\n",
       "    <tr>\n",
       "      <th>1</th>\n",
       "      <td>2013-11-15 03:45:04</td>\n",
       "      <td>2</td>\n",
       "      <td>1</td>\n",
       "    </tr>\n",
       "    <tr>\n",
       "      <th>2</th>\n",
       "      <td>2013-11-29 03:45:04</td>\n",
       "      <td>2</td>\n",
       "      <td>1</td>\n",
       "    </tr>\n",
       "  </tbody>\n",
       "</table>\n",
       "</div>"
      ],
      "text/plain": [
       "           time_stamp  user_id  visited\n",
       "0 2014-04-22 03:53:30        1        1\n",
       "1 2013-11-15 03:45:04        2        1\n",
       "2 2013-11-29 03:45:04        2        1"
      ]
     },
     "execution_count": 14,
     "metadata": {},
     "output_type": "execute_result"
    }
   ],
   "source": [
    "df1.head(3)"
   ]
  },
  {
   "cell_type": "code",
   "execution_count": 15,
   "metadata": {},
   "outputs": [
    {
     "data": {
      "text/html": [
       "<div>\n",
       "<style scoped>\n",
       "    .dataframe tbody tr th:only-of-type {\n",
       "        vertical-align: middle;\n",
       "    }\n",
       "\n",
       "    .dataframe tbody tr th {\n",
       "        vertical-align: top;\n",
       "    }\n",
       "\n",
       "    .dataframe thead th {\n",
       "        text-align: right;\n",
       "    }\n",
       "</style>\n",
       "<table border=\"1\" class=\"dataframe\">\n",
       "  <thead>\n",
       "    <tr style=\"text-align: right;\">\n",
       "      <th></th>\n",
       "      <th>creation_time</th>\n",
       "      <th>adopted</th>\n",
       "      <th>name</th>\n",
       "      <th>email</th>\n",
       "      <th>creation_source</th>\n",
       "      <th>last_session_creation_time</th>\n",
       "      <th>opted_in_to_mailing_list</th>\n",
       "      <th>enabled_for_marketing_drip</th>\n",
       "      <th>org_id</th>\n",
       "      <th>invited_by_user_id</th>\n",
       "      <th>history</th>\n",
       "      <th>account_age</th>\n",
       "    </tr>\n",
       "    <tr>\n",
       "      <th>user_id</th>\n",
       "      <th></th>\n",
       "      <th></th>\n",
       "      <th></th>\n",
       "      <th></th>\n",
       "      <th></th>\n",
       "      <th></th>\n",
       "      <th></th>\n",
       "      <th></th>\n",
       "      <th></th>\n",
       "      <th></th>\n",
       "      <th></th>\n",
       "      <th></th>\n",
       "    </tr>\n",
       "  </thead>\n",
       "  <tbody>\n",
       "    <tr>\n",
       "      <th>1</th>\n",
       "      <td>2014-04-22 03:53:30</td>\n",
       "      <td>0.0</td>\n",
       "      <td>Clausen August</td>\n",
       "      <td>AugustCClausen@yahoo.com</td>\n",
       "      <td>GUEST_INVITE</td>\n",
       "      <td>2014-04-22 03:53:30</td>\n",
       "      <td>1</td>\n",
       "      <td>0</td>\n",
       "      <td>11</td>\n",
       "      <td>10803.0</td>\n",
       "      <td>0.0</td>\n",
       "      <td>38</td>\n",
       "    </tr>\n",
       "    <tr>\n",
       "      <th>2</th>\n",
       "      <td>2013-11-15 03:45:04</td>\n",
       "      <td>1.0</td>\n",
       "      <td>Poole Matthew</td>\n",
       "      <td>MatthewPoole@gustr.com</td>\n",
       "      <td>ORG_INVITE</td>\n",
       "      <td>2014-03-31 03:45:04</td>\n",
       "      <td>0</td>\n",
       "      <td>0</td>\n",
       "      <td>1</td>\n",
       "      <td>316.0</td>\n",
       "      <td>136.0</td>\n",
       "      <td>196</td>\n",
       "    </tr>\n",
       "    <tr>\n",
       "      <th>3</th>\n",
       "      <td>2013-03-19 23:14:52</td>\n",
       "      <td>0.0</td>\n",
       "      <td>Bottrill Mitchell</td>\n",
       "      <td>MitchellBottrill@gustr.com</td>\n",
       "      <td>ORG_INVITE</td>\n",
       "      <td>2013-03-19 23:14:52</td>\n",
       "      <td>0</td>\n",
       "      <td>0</td>\n",
       "      <td>94</td>\n",
       "      <td>1525.0</td>\n",
       "      <td>0.0</td>\n",
       "      <td>437</td>\n",
       "    </tr>\n",
       "  </tbody>\n",
       "</table>\n",
       "</div>"
      ],
      "text/plain": [
       "              creation_time  adopted               name  \\\n",
       "user_id                                                   \n",
       "1       2014-04-22 03:53:30      0.0     Clausen August   \n",
       "2       2013-11-15 03:45:04      1.0      Poole Matthew   \n",
       "3       2013-03-19 23:14:52      0.0  Bottrill Mitchell   \n",
       "\n",
       "                              email creation_source  \\\n",
       "user_id                                               \n",
       "1          AugustCClausen@yahoo.com    GUEST_INVITE   \n",
       "2            MatthewPoole@gustr.com      ORG_INVITE   \n",
       "3        MitchellBottrill@gustr.com      ORG_INVITE   \n",
       "\n",
       "        last_session_creation_time  opted_in_to_mailing_list  \\\n",
       "user_id                                                        \n",
       "1              2014-04-22 03:53:30                         1   \n",
       "2              2014-03-31 03:45:04                         0   \n",
       "3              2013-03-19 23:14:52                         0   \n",
       "\n",
       "         enabled_for_marketing_drip  org_id  invited_by_user_id  history  \\\n",
       "user_id                                                                    \n",
       "1                                 0      11             10803.0      0.0   \n",
       "2                                 0       1               316.0    136.0   \n",
       "3                                 0      94              1525.0      0.0   \n",
       "\n",
       "         account_age  \n",
       "user_id               \n",
       "1                 38  \n",
       "2                196  \n",
       "3                437  "
      ]
     },
     "execution_count": 15,
     "metadata": {},
     "output_type": "execute_result"
    }
   ],
   "source": [
    "df2.head(3)"
   ]
  },
  {
   "cell_type": "code",
   "execution_count": 16,
   "metadata": {
    "scrolled": false
   },
   "outputs": [
    {
     "name": "stdout",
     "output_type": "stream",
     "text": [
      "Percentage of Creation Sources: \n",
      "ORG_INVITE            0.35\n",
      "GUEST_INVITE          0.18\n",
      "PERSONAL_PROJECTS     0.18\n",
      "SIGNUP                0.17\n",
      "SIGNUP_GOOGLE_AUTH    0.12\n",
      "Name: creation_source, dtype: float64\n"
     ]
    },
    {
     "data": {
      "image/png": "[encoded data removed]",
      "text/plain": [
       "<Figure size 1080x360 with 1 Axes>"
      ]
     },
     "metadata": {
      "needs_background": "light"
     },
     "output_type": "display_data"
    }
   ],
   "source": [
    "sns.countplot(df2.creation_source, hue=df2.adopted, palette='Set1')\n",
    "plt.title('Count of Creation Source and Whether Adopted'), plt.grid(axis='y'), plt.xticks(rotation=30)\n",
    "plt.legend(title='Adopted',labels=['No', 'Yes'])\n",
    "print(f'Percentage of Creation Sources: \\n\\\n",
    "{round(df2.creation_source.value_counts(normalize=True), 2)}')"
   ]
  },
  {
   "cell_type": "code",
   "execution_count": 17,
   "metadata": {
    "scrolled": false
   },
   "outputs": [
    {
     "name": "stdout",
     "output_type": "stream",
     "text": [
      "Percentage of Op Ins to Mailing List: \n",
      "0    0.75\n",
      "1    0.25\n",
      "Name: opted_in_to_mailing_list, dtype: float64\n"
     ]
    },
    {
     "data": {
      "image/png": "[encoded data removed]",
      "text/plain": [
       "<Figure size 1080x360 with 1 Axes>"
      ]
     },
     "metadata": {
      "needs_background": "light"
     },
     "output_type": "display_data"
    }
   ],
   "source": [
    "sns.countplot(df2.opted_in_to_mailing_list, palette='Set1', hue=df2.adopted)\n",
    "plt.title('Count of Opt Ins to Mailing List'), plt.grid(axis='y'), plt.xticks([0,1], ['No','Yes'])\n",
    "plt.legend(title='Adopted', labels=['No', 'Yes'])\n",
    "print(f'Percentage of Op Ins to Mailing List: \\n\\\n",
    "{round(df2.opted_in_to_mailing_list.value_counts(normalize=True), 2)}')"
   ]
  },
  {
   "cell_type": "code",
   "execution_count": 18,
   "metadata": {},
   "outputs": [
    {
     "name": "stdout",
     "output_type": "stream",
     "text": [
      "Percentage of Those Enabled for Marketing Drip: \n",
      "0    0.85\n",
      "1    0.15\n",
      "Name: enabled_for_marketing_drip, dtype: float64\n"
     ]
    },
    {
     "data": {
      "image/png": "[encoded data removed]",
      "text/plain": [
       "<Figure size 1080x360 with 1 Axes>"
      ]
     },
     "metadata": {
      "needs_background": "light"
     },
     "output_type": "display_data"
    }
   ],
   "source": [
    "sns.countplot(df2.enabled_for_marketing_drip, palette='Set1', hue=df2.adopted)\n",
    "plt.title('Count of Enablement of Marketing Drip'), plt.grid(axis='y'), plt.xticks([0,1], ['No','Yes'])\n",
    "plt.legend(title='Adopted', labels=['No', 'Yes'])\n",
    "print(f'Percentage of Those Enabled for Marketing Drip: \\n\\\n",
    "{round(df2.enabled_for_marketing_drip.value_counts(normalize=True),2)}')"
   ]
  },
  {
   "cell_type": "code",
   "execution_count": 19,
   "metadata": {},
   "outputs": [
    {
     "data": {
      "text/plain": [
       "Timedelta('736 days 06:38:44')"
      ]
     },
     "execution_count": 19,
     "metadata": {},
     "output_type": "execute_result"
    }
   ],
   "source": [
    "df1.time_stamp.max() - df1.time_stamp.min()"
   ]
  },
  {
   "cell_type": "code",
   "execution_count": 20,
   "metadata": {},
   "outputs": [
    {
     "data": {
      "text/plain": [
       "8823"
      ]
     },
     "execution_count": 20,
     "metadata": {},
     "output_type": "execute_result"
    }
   ],
   "source": [
    "df1.user_id.nunique()"
   ]
  },
  {
   "cell_type": "code",
   "execution_count": 21,
   "metadata": {
    "scrolled": true
   },
   "outputs": [
    {
     "data": {
      "text/plain": [
       "1"
      ]
     },
     "execution_count": 21,
     "metadata": {},
     "output_type": "execute_result"
    }
   ],
   "source": [
    "df1.visited.nunique()"
   ]
  },
  {
   "cell_type": "code",
   "execution_count": 22,
   "metadata": {},
   "outputs": [],
   "source": [
    "df1.drop('visited', axis=1, inplace=True)"
   ]
  },
  {
   "cell_type": "markdown",
   "metadata": {},
   "source": [
    "## The column 'visited' adds nothing for our EDA, so I've dropped it."
   ]
  },
  {
   "cell_type": "code",
   "execution_count": 23,
   "metadata": {
    "scrolled": true
   },
   "outputs": [
    {
     "data": {
      "image/png": "[encoded data removed]",
      "text/plain": [
       "<Figure size 1080x360 with 1 Axes>"
      ]
     },
     "metadata": {
      "needs_background": "light"
     },
     "output_type": "display_data"
    }
   ],
   "source": [
    "# history and adopted user\n",
    "def plot_hist_days(df, col, xlabel):\n",
    "    _ = plt.hist(df.loc[df['adopted']==1, col], \n",
    "                 bins=30, alpha=0.3, color='b', label='adopted user')\n",
    "    _ = plt.hist(df.loc[df['adopted']==0, col], \n",
    "                 bins=30, alpha=0.3, color='r', label='non adopted user')\n",
    "    _ = plt.yscale('log')\n",
    "    _ = plt.legend(title='Adopted',labels=['Yes','No'])\n",
    "    _ = plt.grid(axis='y')\n",
    "    _ = plt.xlabel(xlabel)\n",
    "    _ = plt.ylabel('No. of users', rotation=80)\n",
    "    _ = plt.yticks([1, 10, 100, 1000], ['1', '10', '100', '1000'])\n",
    "    \n",
    "plot_hist_days(df2, 'history', 'User History (Days)')"
   ]
  },
  {
   "cell_type": "code",
   "execution_count": 24,
   "metadata": {},
   "outputs": [
    {
     "data": {
      "image/png": "[encoded data removed]",
      "text/plain": [
       "<Figure size 1080x360 with 1 Axes>"
      ]
     },
     "metadata": {
      "needs_background": "light"
     },
     "output_type": "display_data"
    }
   ],
   "source": [
    "plot_hist_days(df2, 'account_age', 'aAccount Age (Days)')"
   ]
  },
  {
   "cell_type": "code",
   "execution_count": null,
   "metadata": {},
   "outputs": [],
   "source": []
  },
  {
   "cell_type": "code",
   "execution_count": null,
   "metadata": {},
   "outputs": [],
   "source": []
  },
  {
   "cell_type": "code",
   "execution_count": null,
   "metadata": {},
   "outputs": [],
   "source": []
  },
  {
   "cell_type": "code",
   "execution_count": null,
   "metadata": {},
   "outputs": [],
   "source": []
  },
  {
   "cell_type": "code",
   "execution_count": null,
   "metadata": {},
   "outputs": [],
   "source": []
  },
  {
   "cell_type": "code",
   "execution_count": null,
   "metadata": {},
   "outputs": [],
   "source": []
  },
  {
   "cell_type": "markdown",
   "metadata": {},
   "source": [
    "# NaNs"
   ]
  },
  {
   "cell_type": "code",
   "execution_count": 25,
   "metadata": {},
   "outputs": [
    {
     "data": {
      "text/plain": [
       "time_stamp    0\n",
       "user_id       0\n",
       "dtype: int64"
      ]
     },
     "execution_count": 25,
     "metadata": {},
     "output_type": "execute_result"
    }
   ],
   "source": [
    "df1.isna().sum()"
   ]
  },
  {
   "cell_type": "code",
   "execution_count": 26,
   "metadata": {},
   "outputs": [
    {
     "name": "stdout",
     "output_type": "stream",
     "text": [
      "                            Total  Missing Percent\n",
      "invited_by_user_id           5583           46.525\n",
      "history                      3177           26.475\n",
      "last_session_creation_time   3177           26.475\n",
      "adopted                      3177           26.475\n"
     ]
    }
   ],
   "source": [
    "def nan_percentage(df):\n",
    "    total = df.isnull().sum().sort_values(ascending=False)\n",
    "    percent = (df.isnull().sum() / df.isnull().count()).sort_values(ascending=False)\n",
    "    missing_data = pd.concat([total, percent], axis=1, keys=['Total', 'Missing Percent'])\n",
    "    missing_data['Missing Percent'] = missing_data['Missing Percent'].apply(lambda x: x * 100)\n",
    "    print(missing_data[missing_data['Total'] > 0].round({'Missing Percent': 3}))\n",
    "    \n",
    "nan_percentage(df2)"
   ]
  },
  {
   "cell_type": "code",
   "execution_count": 27,
   "metadata": {
    "scrolled": true
   },
   "outputs": [
    {
     "data": {
      "text/plain": [
       "0"
      ]
     },
     "execution_count": 27,
     "metadata": {},
     "output_type": "execute_result"
    }
   ],
   "source": [
    "df2.query('invited_by_user_id == 5', engine='python').shape[0]"
   ]
  },
  {
   "cell_type": "code",
   "execution_count": 28,
   "metadata": {},
   "outputs": [
    {
     "data": {
      "text/plain": [
       "Timestamp('2013-09-15 21:08:25.700448768')"
      ]
     },
     "execution_count": 28,
     "metadata": {},
     "output_type": "execute_result"
    }
   ],
   "source": [
    "df2.last_session_creation_time.mean()"
   ]
  },
  {
   "cell_type": "markdown",
   "metadata": {},
   "source": [
    "## We can't drop the NaN rows, and they are a large percentage of the dataset. This is not ideal. They're both numeric columns. I'll impute the mean in each column because the mean does not appear otherwise."
   ]
  },
  {
   "cell_type": "code",
   "execution_count": 29,
   "metadata": {},
   "outputs": [],
   "source": [
    "imr = SimpleImputer(strategy='mean')\n",
    "imr = imr.fit(df2[['invited_by_user_id']])\n",
    "df2.invited_by_user_id = imr.transform(df2[['invited_by_user_id']]).ravel()"
   ]
  },
  {
   "cell_type": "code",
   "execution_count": 30,
   "metadata": {},
   "outputs": [],
   "source": [
    "imr = SimpleImputer(strategy='mean')\n",
    "imr = imr.fit(df2[['last_session_creation_time']])\n",
    "df2.last_session_creation_time = imr.transform(df2[['last_session_creation_time']]).ravel()"
   ]
  },
  {
   "cell_type": "markdown",
   "metadata": {},
   "source": [
    "## Let's consider the history and adopted columns."
   ]
  },
  {
   "cell_type": "code",
   "execution_count": 31,
   "metadata": {},
   "outputs": [
    {
     "data": {
      "text/plain": [
       "user_id\n",
       "8   -9.223372e+18\n",
       "Name: last_session_creation_time, dtype: float64"
      ]
     },
     "execution_count": 31,
     "metadata": {},
     "output_type": "execute_result"
    }
   ],
   "source": [
    "df2.query('history.isna()',engine='python').last_session_creation_time.sort_values(ascending=True).head(1)"
   ]
  },
  {
   "cell_type": "code",
   "execution_count": 32,
   "metadata": {},
   "outputs": [
    {
     "data": {
      "text/plain": [
       "user_id\n",
       "341    1.401926e+18\n",
       "Name: last_session_creation_time, dtype: float64"
      ]
     },
     "execution_count": 32,
     "metadata": {},
     "output_type": "execute_result"
    }
   ],
   "source": [
    "df2.query('adopted == 1',engine='python').last_session_creation_time.sort_values(ascending=False).head(1)\n",
    "# ascending = False"
   ]
  },
  {
   "cell_type": "markdown",
   "metadata": {},
   "source": [
    "## For those with NaN histories, their last session happened a long time ago, while the longest time ago that an adopted user signed in was much more recent."
   ]
  },
  {
   "cell_type": "code",
   "execution_count": 33,
   "metadata": {
    "scrolled": true
   },
   "outputs": [
    {
     "data": {
      "text/plain": [
       "count    8823.000000\n",
       "mean       59.222147\n",
       "std       144.172167\n",
       "min         0.000000\n",
       "25%         0.000000\n",
       "50%         1.000000\n",
       "75%        20.000000\n",
       "max       729.000000\n",
       "Name: history, dtype: float64"
      ]
     },
     "execution_count": 33,
     "metadata": {},
     "output_type": "execute_result"
    }
   ],
   "source": [
    "df2.history.describe(exclude=[np.nan, None])"
   ]
  },
  {
   "cell_type": "markdown",
   "metadata": {},
   "source": [
    "## Because so much data is missing from history and adopted, there's no clean way to impute it. Given that the history column is derived from last_session_creation_time, and that those with nan histories haven't logged in for a long time, it is safest to impute a low score to history and 0 to adopted."
   ]
  },
  {
   "cell_type": "code",
   "execution_count": 34,
   "metadata": {},
   "outputs": [],
   "source": [
    "df2.history = df2.history.fillna(0)\n",
    "df2.adopted = df2.adopted.fillna(0)"
   ]
  },
  {
   "cell_type": "code",
   "execution_count": 35,
   "metadata": {
    "scrolled": true
   },
   "outputs": [
    {
     "data": {
      "text/plain": [
       "(creation_time                 0\n",
       " adopted                       0\n",
       " name                          0\n",
       " email                         0\n",
       " creation_source               0\n",
       " last_session_creation_time    0\n",
       " opted_in_to_mailing_list      0\n",
       " enabled_for_marketing_drip    0\n",
       " org_id                        0\n",
       " invited_by_user_id            0\n",
       " history                       0\n",
       " account_age                   0\n",
       " dtype: int64,\n",
       " time_stamp    0\n",
       " user_id       0\n",
       " dtype: int64)"
      ]
     },
     "execution_count": 35,
     "metadata": {},
     "output_type": "execute_result"
    }
   ],
   "source": [
    "df2.isna().sum(), df1.isna().sum()"
   ]
  },
  {
   "cell_type": "markdown",
   "metadata": {},
   "source": [
    "## Now that there are no NaN values, we can minimize the dtypes one final time."
   ]
  },
  {
   "cell_type": "code",
   "execution_count": 36,
   "metadata": {},
   "outputs": [],
   "source": [
    "df2.adopted = df2.adopted.astype('int8')\n",
    "df2.history = df2.history.astype('int16')\n",
    "df2.account_age = df2.account_age.astype('int16')\n",
    "df2.creation_source = df2.creation_source.astype('category')"
   ]
  },
  {
   "cell_type": "markdown",
   "metadata": {},
   "source": [
    "# Dataset Preparation"
   ]
  },
  {
   "cell_type": "code",
   "execution_count": 37,
   "metadata": {},
   "outputs": [],
   "source": [
    "df2.drop(['name', 'email'], axis=1, inplace=True)"
   ]
  },
  {
   "cell_type": "code",
   "execution_count": 38,
   "metadata": {},
   "outputs": [],
   "source": [
    "y = df2['adopted'].copy().values\n",
    "X = df2.copy().drop(['adopted'], axis=1)\n",
    "X_col = X.copy().columns\n",
    "\n",
    "X_train, X_test, y_train, y_test = train_test_split(X, y, test_size=.25, random_state=42)"
   ]
  },
  {
   "cell_type": "code",
   "execution_count": 39,
   "metadata": {},
   "outputs": [
    {
     "name": "stdout",
     "output_type": "stream",
     "text": [
      "<class 'pandas.core.frame.DataFrame'>\n",
      "Int64Index: 12000 entries, 1 to 12000\n",
      "Data columns (total 9 columns):\n",
      " #   Column                      Non-Null Count  Dtype         \n",
      "---  ------                      --------------  -----         \n",
      " 0   creation_time               12000 non-null  datetime64[ns]\n",
      " 1   creation_source             12000 non-null  category      \n",
      " 2   last_session_creation_time  12000 non-null  float64       \n",
      " 3   opted_in_to_mailing_list    12000 non-null  int8          \n",
      " 4   enabled_for_marketing_drip  12000 non-null  int8          \n",
      " 5   org_id                      12000 non-null  int16         \n",
      " 6   invited_by_user_id          12000 non-null  float32       \n",
      " 7   history                     12000 non-null  int16         \n",
      " 8   account_age                 12000 non-null  int16         \n",
      "dtypes: category(1), datetime64[ns](1), float32(1), float64(1), int16(3), int8(2)\n",
      "memory usage: 433.8 KB\n"
     ]
    }
   ],
   "source": [
    "X.info()"
   ]
  },
  {
   "cell_type": "code",
   "execution_count": 40,
   "metadata": {
    "scrolled": true
   },
   "outputs": [
    {
     "name": "stdout",
     "output_type": "stream",
     "text": [
      "GridSearchCV(cv=3,\n",
      "             estimator=Pipeline(steps=[('pre',\n",
      "                                        ColumnTransformer(transformers=[('num',\n",
      "                                                                         Pipeline(steps=[('scaler',\n",
      "                                                                                          StandardScaler())]),\n",
      "                                                                         ['last_session_creation_time',\n",
      "                                                                          'opted_in_to_mailing_list',\n",
      "                                                                          'enabled_for_marketing_drip',\n",
      "                                                                          'org_id',\n",
      "                                                                          'invited_by_user_id',\n",
      "                                                                          'history',\n",
      "                                                                          'account_age']),\n",
      "                                                                        ('cat',\n",
      "                                                                         Pipeline(steps=[('encoder',\n",
      "                                                                                          OneHotEncoder())]),\n",
      "                                                                         ['creation_source'])])),\n",
      "                                       ('rf',\n",
      "                                        RandomForestClassifier(random_state=42))]),\n",
      "             param_grid={'rf__max_depth': [5, 10, 15],\n",
      "                         'rf__n_estimators': [75, 100, 150]})\n"
     ]
    }
   ],
   "source": [
    "from sklearn.pipeline import Pipeline\n",
    "from sklearn.preprocessing import OneHotEncoder\n",
    "from sklearn.preprocessing import StandardScaler\n",
    "from sklearn.compose import ColumnTransformer\n",
    "from sklearn.model_selection import GridSearchCV\n",
    "from sklearn.ensemble import RandomForestClassifier\n",
    "\n",
    "#pipeline for numeric features\n",
    "numeric_features = ['last_session_creation_time', 'opted_in_to_mailing_list', 'enabled_for_marketing_drip', \\\n",
    "                   'org_id', 'invited_by_user_id', 'history', 'account_age']\n",
    "numeric_transformer = [(\"scaler\", StandardScaler())]\n",
    "numeric_transformer = Pipeline(numeric_transformer)\n",
    "\n",
    "#pipeline for categorical features\n",
    "categorical_features = [\"creation_source\"]\n",
    "categorical_transformer = [(\"encoder\", OneHotEncoder())]\n",
    "categorical_transformer = Pipeline(categorical_transformer)\n",
    "\n",
    "#divernce of the pipelines\n",
    "preprocessor = ColumnTransformer(\n",
    "    transformers=[(\"num\", numeric_transformer, numeric_features), \\\n",
    "                  (\"cat\", categorical_transformer, categorical_features)])\n",
    "\n",
    "#incorporating the random forest estimator\n",
    "pipeline = Pipeline(steps=[(\"pre\", preprocessor), \\\n",
    "                           (\"rf\", RandomForestClassifier(random_state = 42))])\n",
    "\n",
    "#grid search parameters\n",
    "params = {\"rf__n_estimators\" : [75, 100, 150],\n",
    "          \"rf__max_depth\" : [5, 10, 15]}\n",
    "\n",
    "#fitting the pipeline to the grid search\n",
    "cv1 = GridSearchCV(pipeline, param_grid=params, cv=3)\n",
    "cv1.fit(X_train, y_train)\n",
    "\n",
    "print(cv1)"
   ]
  },
  {
   "cell_type": "code",
   "execution_count": 41,
   "metadata": {},
   "outputs": [
    {
     "name": "stdout",
     "output_type": "stream",
     "text": [
      "Best parameters: {'rf__max_depth': 5, 'rf__n_estimators': 150}\n",
      "Training accuracy score from tuned model: 97.2%\n"
     ]
    }
   ],
   "source": [
    "print(f\"Best parameters: {cv1.best_params_}\")\n",
    "print(f\"Training accuracy score from tuned model: {cv1.best_score_*100:.1f}%\")"
   ]
  },
  {
   "cell_type": "markdown",
   "metadata": {},
   "source": [
    "## Great results. Let's explore feature importance."
   ]
  },
  {
   "cell_type": "code",
   "execution_count": 42,
   "metadata": {},
   "outputs": [
    {
     "name": "stdout",
     "output_type": "stream",
     "text": [
      "[0.24767903 0.00337491 0.00278404 0.0321454  0.02029189 0.61270901\n",
      " 0.06824141 0.00220044 0.00270069 0.00300142 0.00222294 0.00264881]\n"
     ]
    }
   ],
   "source": [
    "pipeline.fit(X_train, y_train)\n",
    "\n",
    "fe1 = pipeline.named_steps['rf'].feature_importances_\n",
    "\n",
    "print(fe1)"
   ]
  },
  {
   "cell_type": "code",
   "execution_count": 43,
   "metadata": {},
   "outputs": [
    {
     "name": "stdout",
     "output_type": "stream",
     "text": [
      "Weight: 0.613 | Feature: history\n",
      "Weight: 0.248 | Feature: last_session_creation_time\n",
      "Weight: 0.068 | Feature: account_age\n",
      "Weight: 0.032 | Feature: org_id\n",
      "Weight: 0.020 | Feature: invited_by_user_id\n",
      "Weight: 0.003 | Feature: opted_in_to_mailing_list\n",
      "Weight: 0.003 | Feature: creation_source_PERSONAL_PROJECTS\n",
      "Weight: 0.003 | Feature: enabled_for_marketing_drip\n",
      "Weight: 0.003 | Feature: creation_source_ORG_INVITE\n",
      "Weight: 0.003 | Feature: creation_source_SIGNUP_GOOGLE_AUTH\n",
      "Weight: 0.002 | Feature: creation_source_SIGNUP\n",
      "Weight: 0.002 | Feature: creation_source_GUEST_INVITE\n"
     ]
    }
   ],
   "source": [
    "#replicating numeric_transformer of our pipeline\n",
    "num_cols = df2[numeric_features].columns\n",
    "num_cols = num_cols.tolist()\n",
    "\n",
    "#replicating categorical_transformer of our pipeline\n",
    "cat_cols = pd.get_dummies(df2[categorical_features]).columns\n",
    "cat_cols = cat_cols.tolist()\n",
    "\n",
    "#the column names are added together\n",
    "cols = num_cols + cat_cols\n",
    "\n",
    "#the column names are finally tied to our fe list\n",
    "feature_importance = zip(cols, fe1)\n",
    "feature_importance = sorted(feature_importance, key=lambda x:x[1], reverse=True)\n",
    "\n",
    "for i, j in feature_importance:\n",
    "    print(f\"Weight: {j:.3f} | Feature: {i}\")"
   ]
  },
  {
   "cell_type": "code",
   "execution_count": 44,
   "metadata": {},
   "outputs": [
    {
     "name": "stdout",
     "output_type": "stream",
     "text": [
      "              precision    recall  f1-score   support\n",
      "\n",
      "           0       0.98      0.99      0.99      2580\n",
      "           1       0.94      0.90      0.92       420\n",
      "\n",
      "    accuracy                           0.98      3000\n",
      "   macro avg       0.96      0.94      0.95      3000\n",
      "weighted avg       0.98      0.98      0.98      3000\n",
      "\n"
     ]
    }
   ],
   "source": [
    "from sklearn.metrics import classification_report\n",
    "y_pred = cv1.predict(X_test)\n",
    "print(classification_report(y_test, y_pred))"
   ]
  },
  {
   "cell_type": "markdown",
   "metadata": {},
   "source": [
    "### 2. AdaBoost Classifier"
   ]
  },
  {
   "cell_type": "code",
   "execution_count": 45,
   "metadata": {},
   "outputs": [
    {
     "name": "stdout",
     "output_type": "stream",
     "text": [
      "GridSearchCV(cv=3,\n",
      "             estimator=Pipeline(steps=[('pre',\n",
      "                                        ColumnTransformer(transformers=[('num',\n",
      "                                                                         Pipeline(steps=[('scaler',\n",
      "                                                                                          StandardScaler())]),\n",
      "                                                                         ['last_session_creation_time',\n",
      "                                                                          'opted_in_to_mailing_list',\n",
      "                                                                          'enabled_for_marketing_drip',\n",
      "                                                                          'org_id',\n",
      "                                                                          'invited_by_user_id',\n",
      "                                                                          'history',\n",
      "                                                                          'account_age']),\n",
      "                                                                        ('cat',\n",
      "                                                                         Pipeline(steps=[('encoder',\n",
      "                                                                                          OneHotEncoder())]),\n",
      "                                                                         ['creation_source'])])),\n",
      "                                       ('ab',\n",
      "                                        AdaBoostClassifier(random_state=42))]),\n",
      "             param_grid={'ab__learning_rate': [0.25, 0.5, 0.75, 1],\n",
      "                         'ab__n_estimators': [75, 100, 150]})\n"
     ]
    }
   ],
   "source": [
    "from sklearn.ensemble import AdaBoostClassifier\n",
    "\n",
    "#pipeline for numeric features\n",
    "numeric_features = ['last_session_creation_time', 'opted_in_to_mailing_list', 'enabled_for_marketing_drip', \\\n",
    "                   'org_id', 'invited_by_user_id', 'history', 'account_age']\n",
    "numeric_transformer = [(\"scaler\", StandardScaler())]\n",
    "numeric_transformer = Pipeline(numeric_transformer)\n",
    "\n",
    "#pipeline for categorical features\n",
    "categorical_features = [\"creation_source\"]\n",
    "categorical_transformer = [(\"encoder\", OneHotEncoder())]\n",
    "categorical_transformer = Pipeline(categorical_transformer)\n",
    "\n",
    "#divernce of the pipelines\n",
    "preprocessor = ColumnTransformer(\n",
    "    transformers=[(\"num\", numeric_transformer, numeric_features), \\\n",
    "                  (\"cat\", categorical_transformer, categorical_features)])\n",
    "\n",
    "#incorporating the random forest estimator\n",
    "pipeline = Pipeline(steps=[(\"pre\", preprocessor), \\\n",
    "                           (\"ab\", AdaBoostClassifier(random_state = 42))])\n",
    "\n",
    "#grid search parameters\n",
    "params = {\"ab__n_estimators\" : [75, 100, 150],\n",
    "          \"ab__learning_rate\" : [.25, .5, .75, 1]}\n",
    "\n",
    "#fitting the pipeline to the grid search\n",
    "cv2 = GridSearchCV(pipeline, param_grid=params, cv=3)\n",
    "cv2.fit(X_train, y_train)\n",
    "\n",
    "print(cv2)"
   ]
  },
  {
   "cell_type": "code",
   "execution_count": 46,
   "metadata": {},
   "outputs": [
    {
     "name": "stdout",
     "output_type": "stream",
     "text": [
      "Best parameters: {'rf__max_depth': 5, 'rf__n_estimators': 150}\n",
      "Training accuracy score from tuned model: 97.2%\n"
     ]
    }
   ],
   "source": [
    "print(f\"Best parameters: {cv1.best_params_}\")\n",
    "print(f\"Training accuracy score from tuned model: {cv1.best_score_*100:.1f}%\")"
   ]
  },
  {
   "cell_type": "code",
   "execution_count": 47,
   "metadata": {},
   "outputs": [
    {
     "name": "stdout",
     "output_type": "stream",
     "text": [
      "[0.22 0.   0.   0.14 0.06 0.4  0.18 0.   0.   0.   0.   0.  ]\n"
     ]
    }
   ],
   "source": [
    "pipeline.fit(X_train, y_train)\n",
    "\n",
    "fe2 = pipeline.named_steps['ab'].feature_importances_\n",
    "\n",
    "print(fe2)"
   ]
  },
  {
   "cell_type": "code",
   "execution_count": 48,
   "metadata": {},
   "outputs": [
    {
     "name": "stdout",
     "output_type": "stream",
     "text": [
      "Weight: 0.613 | Feature: history\n",
      "Weight: 0.248 | Feature: last_session_creation_time\n",
      "Weight: 0.068 | Feature: account_age\n",
      "Weight: 0.032 | Feature: org_id\n",
      "Weight: 0.020 | Feature: invited_by_user_id\n",
      "Weight: 0.003 | Feature: opted_in_to_mailing_list\n",
      "Weight: 0.003 | Feature: creation_source_PERSONAL_PROJECTS\n",
      "Weight: 0.003 | Feature: enabled_for_marketing_drip\n",
      "Weight: 0.003 | Feature: creation_source_ORG_INVITE\n",
      "Weight: 0.003 | Feature: creation_source_SIGNUP_GOOGLE_AUTH\n",
      "Weight: 0.002 | Feature: creation_source_SIGNUP\n",
      "Weight: 0.002 | Feature: creation_source_GUEST_INVITE\n"
     ]
    }
   ],
   "source": [
    "#replicating numeric_transformer of our pipeline\n",
    "num_cols = df2[numeric_features].columns\n",
    "num_cols = num_cols.tolist()\n",
    "\n",
    "#replicating categorical_transformer of our pipeline\n",
    "cat_cols = pd.get_dummies(df2[categorical_features]).columns\n",
    "cat_cols = cat_cols.tolist()\n",
    "\n",
    "#the column names are added together\n",
    "cols = num_cols + cat_cols\n",
    "\n",
    "#the column names are finally tied to our fe list\n",
    "feature_importance = zip(cols, fe1)\n",
    "feature_importance = sorted(feature_importance, key=lambda x:x[1], reverse=True)\n",
    "\n",
    "for i, j in feature_importance:\n",
    "    print(f\"Weight: {j:.3f} | Feature: {i}\")"
   ]
  },
  {
   "cell_type": "code",
   "execution_count": 49,
   "metadata": {},
   "outputs": [
    {
     "name": "stdout",
     "output_type": "stream",
     "text": [
      "              precision    recall  f1-score   support\n",
      "\n",
      "           0       0.98      0.99      0.99      2580\n",
      "           1       0.94      0.90      0.92       420\n",
      "\n",
      "    accuracy                           0.98      3000\n",
      "   macro avg       0.96      0.94      0.95      3000\n",
      "weighted avg       0.98      0.98      0.98      3000\n",
      "\n"
     ]
    }
   ],
   "source": [
    "from sklearn.metrics import classification_report\n",
    "y_pred = cv1.predict(X_test)\n",
    "print(classification_report(y_test, y_pred))"
   ]
  },
  {
   "cell_type": "markdown",
   "metadata": {},
   "source": [
    "### The model performs the same as the RF Classifier. "
   ]
  },
  {
   "cell_type": "markdown",
   "metadata": {},
   "source": [
    "# So What?"
   ]
  },
  {
   "cell_type": "markdown",
   "metadata": {},
   "source": [
    "## We all know that correlation does not equal causation. Still, given that we can't piece together the exact causal relationships with onmiscience before making costly decisions, what have we learned about adopted status? It's clear that there are only two primary features, and they are closely related: history and the last time a user logged in. I recommend fostering methods that encourage users to log in more often, perhaps by push notifications to their phone."
   ]
  }
 ],
 "metadata": {
  "kernelspec": {
   "display_name": "Python 3",
   "language": "python",
   "name": "python3"
  },
  "language_info": {
   "codemirror_mode": {
    "name": "ipython",
    "version": 3
   },
   "file_extension": ".py",
   "mimetype": "text/x-python",
   "name": "python",
   "nbconvert_exporter": "python",
   "pygments_lexer": "ipython3",
   "version": "3.8.3"
  }
 },
 "nbformat": 4,
 "nbformat_minor": 4
}
